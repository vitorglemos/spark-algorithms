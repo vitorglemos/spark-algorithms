{
 "cells": [
  {
   "cell_type": "markdown",
   "metadata": {},
   "source": [
    "### Reading a file in PySpark Shell"
   ]
  },
  {
   "cell_type": "code",
   "execution_count": 1,
   "metadata": {},
   "outputs": [],
   "source": [
    "import pyspark\n",
    "import random\n",
    "\n",
    "sc = pyspark.SparkContext()\n",
    "RDD_collections = sc.textFile(\"wikipedia.txt\")"
   ]
  },
  {
   "cell_type": "markdown",
   "metadata": {},
   "source": [
    "### See the contents using RDD Collect"
   ]
  },
  {
   "cell_type": "code",
   "execution_count": 2,
   "metadata": {},
   "outputs": [
    {
     "data": {
      "text/plain": [
       "['Amazon rainforest',\n",
       " 'From Wikipedia, the free encyclopedia',\n",
       " 'Jump to navigationJump to search',\n",
       " '\"Amazonia\" redirects here. For the river, see Amazon River. For other uses, see Amazon and Amazonia (disambiguation).',\n",
       " 'Amazon rainforest',\n",
       " 'Portuguese: Floresta amaz�nica',\n",
       " 'Spanish: Selva amaz�nica',\n",
       " 'Amazon Manaus forest.jpg',\n",
       " 'Amazon rainforest, near Manaus, Brazil',\n",
       " 'Geography',\n",
       " 'Amazon biome outline map.svg',\n",
       " 'Map of the Amazon rainforest ecoregions as delineated by the WWF in white[1] and the Amazon drainage basin in blue.',\n",
       " 'Location\\tBrazil, Peru, Colombia, Venezuela, Ecuador, Bolivia, Guyana, Suriname, France (French Guiana)',\n",
       " 'Coordinates\\tCoordinates: 3�S 60�W',\n",
       " 'Area\\t5,500,000 km2 (2,100,000 sq mi)',\n",
       " 'The Amazon rainforest,[a] also known in English as Amazonia or the Amazon Jungle, is a moist broadleaf tropical rainforest in the Amazon biome that covers most of the Amazon basin of South America. This basin encompasses 7,000,000 km2 (2,700,000 sq mi), of which 5,500,000 km2 (2,100,000 sq mi) are covered by the rainforest. This region includes territory belonging to nine nations.',\n",
       " '',\n",
       " 'The majority of the forest is contained within Brazil, with 60% of the rainforest, followed by Peru with 13%, Colombia with 10%, and with minor amounts in Venezuela, Ecuador, Bolivia, Guyana, Suriname and French Guiana. Four nations have \"Amazonas\" as the name of one of their first-level administrative regions and France uses the name \"Guiana Amazonian Park\" for its rainforest protected area. The Amazon represents over half of the planet\\'s remaining rainforests,[2] and comprises the largest and most biodiverse tract of tropical rainforest in the world, with an estimated 390 billion individual trees divided into 16,000 species.[3]',\n",
       " '',\n",
       " '',\n",
       " 'Contents',\n",
       " '1\\tEtymology',\n",
       " '2\\tHistory',\n",
       " '3\\tLocation',\n",
       " '3.1\\tNatural',\n",
       " '3.1.1\\tSahara Desert dust windblown to the Amazon',\n",
       " '3.2\\tHuman activity',\n",
       " '3.2.1\\t2019 fires',\n",
       " '4\\tBiodiversity',\n",
       " '5\\tDeforestation',\n",
       " '6\\tConservation and climate change',\n",
       " '6.1\\tRemote sensing',\n",
       " '6.2\\tImpact of early 21st-century Amazon droughts',\n",
       " '7\\tSee also',\n",
       " '8\\tNotes and references',\n",
       " '9\\tFurther reading',\n",
       " '10\\tExternal links',\n",
       " 'Etymology',\n",
       " 'The name Amazon is said to arise from a war Francisco de Orellana fought with the Tapuyas and other tribes. The women of the tribe fought alongside the men, as was their custom.[4] Orellana derived the name Amazonas from the Amazons of Greek mythology, described by Herodotus and Diodorus.[4]',\n",
       " '',\n",
       " 'History',\n",
       " 'See also: History of South America � Amazon',\n",
       " 'Tribal societies are well capable of escalation to all-out wars between tribes. Thus, in the Amazonas, there was perpetual animosity between the neighboring tribes of the Jivaro. Several tribes of the Jivaroan group, including the Shuar, practised headhunting for trophies and headshrinking.[5] The accounts of missionaries to the area in the borderlands between Brazil and Venezuela have recounted constant infighting in the Yanomami tribes. More than a third of the Yanomamo males, on average, died from warfare.[6]',\n",
       " '',\n",
       " 'During the Amazon rubber boom it is estimated that diseases brought by immigrants, such as typhus and malaria, killed 40,000 native Amazonians.[7]',\n",
       " '',\n",
       " 'Location',\n",
       " 'Nine countries share the Amazon basin�most of the rainforest, 58.4%, is contained within the borders of Brazil. The other eight countries include Peru with 12.8%, Bolivia with 7.7%, Colombia with 7.1%, Venezuela with 6.1%, Guyana with 3.1%, Suriname with 2.5%, French Guyana with 1.4%, and Ecuador with 1%.[8]',\n",
       " '',\n",
       " 'Natural',\n",
       " '',\n",
       " 'Aerial view of the Amazon rainforest, near Manaus',\n",
       " 'The rainforest likely formed during the Eocene era (from 56 million years to 33.9 million years ago). It appeared following a global reduction of tropical temperatures when the Atlantic Ocean had widened sufficiently to provide a warm, moist climate to the Amazon basin. The rainforest has been in existence for at least 55 million years, and most of the region remained free of savanna-type biomes at least until the current ice age when the climate was drier and savanna more widespread.[9][10]',\n",
       " '',\n",
       " 'Following the Cretaceous�Paleogene extinction event, the extinction of the dinosaurs and the wetter climate may have allowed the tropical rainforest to spread out across the continent. From 66�34 Mya, the rainforest extended as far south as 45�. Climate fluctuations during the last 34 million years have allowed savanna regions to expand into the tropics. During the Oligocene, for example, the rainforest spanned a relatively narrow band. It expanded again during the Middle Miocene, then retracted to a mostly inland formation at the last glacial maximum.[11] However, the rainforest still managed to thrive during these glacial periods, allowing for the survival and evolution of a broad diversity of species.[12]',\n",
       " '',\n",
       " '',\n",
       " 'Aerial view of the Amazon rainforest',\n",
       " 'During the mid-Eocene, it is believed that the drainage basin of the Amazon was split along the middle of the continent by the Purus Arch. Water on the eastern side flowed toward the Atlantic, while to the west water flowed toward the Pacific across the Amazonas Basin. As the Andes Mountains rose, however, a large basin was created that enclosed a lake; now known as the Solim�es Basin. Within the last 5�10 million years, this accumulating water broke through the Purus Arch, joining the easterly flow toward the Atlantic.[13][14]',\n",
       " '',\n",
       " 'There is evidence that there have been significant changes in the Amazon rainforest vegetation over the last 21,000 years through the last glacial maximum (LGM) and subsequent deglaciation. Analyses of sediment deposits from Amazon basin paleolakes and the Amazon Fan indicate that rainfall in the basin during the LGM was lower than for the present, and this was almost certainly associated with reduced moist tropical vegetation cover in the basin.[15] There is a debate, however, over how extensive this reduction was. Some scientists argue that the rainforest was reduced to small, isolated refugia separated by open forest and grassland;[16] other scientists argue that the rainforest remained largely intact but extended less far to the north, south, and east than is seen today.[17] This debate has proved difficult to resolve because the practical limitations of working in the rainforest mean that data sampling is biased away from the center of the Amazon basin, and both explanations are reasonably well supported by the available data.',\n",
       " '',\n",
       " 'Sahara Desert dust windblown to the Amazon',\n",
       " 'More than 56% of the dust fertilizing the Amazon rainforest comes from the Bod�l� depression in Northern Chad in the Sahara desert. The dust contains phosphorus, important for plant growth. The yearly Sahara dust replaces the equivalent amount of phosphorus washed away yearly in Amazon soil from rains and floods.[18]',\n",
       " '',\n",
       " \"NASA's CALIPSO satellite has measured the amount of dust transported by wind from the Sahara to the Amazon: an average 182 million tons of dust are windblown out of the Sahara each year, at 15 degrees west longitude, across 1,600 miles (2,600 km) over the Atlantic Ocean (some dust falls into the Atlantic), then at 35 degrees West longitude at the eastern coast of South America, 27.7 million tons (15%) of dust fall over the Amazon basin (22 million tons of it consisting of phosphorus), 132 million tons of dust remain in the air, 43 million tons of dust are windblown and falls on the Caribbean Sea, past 75 degrees west longitude.[19]\",\n",
       " '',\n",
       " \"CALIPSO uses a laser range finder to scan the Earth's atmosphere for the vertical distribution of dust and other aerosols. CALIPSO regularly tracks the Sahara-Amazon dust plume. CALIPSO has measured variations in the dust amounts transported � an 86 percent drop between the highest amount of dust transported in 2007 and the lowest in 2011.\",\n",
       " '',\n",
       " 'A possibility causing the variation is the Sahel, a strip of semi-arid land on the southern border of the Sahara. When rain amounts in the Sahel are higher, the volume of dust is lower. The higher rainfall could make more vegetation grow in the Sahel, leaving less sand exposed to winds to blow away.[20]',\n",
       " '',\n",
       " 'Amazon phosphorus also comes as smoke due to biomass burning in Africa.[21][22]',\n",
       " '',\n",
       " 'Human activity',\n",
       " '',\n",
       " 'Members of an uncontacted tribe encountered in the Brazilian state of Acre in 2009',\n",
       " 'Based on archaeological evidence from an excavation at Caverna da Pedra Pintada, human inhabitants first settled in the Amazon region at least 11,200 years ago.[23] Subsequent development led to late-prehistoric settlements along the periphery of the forest by AD 1250, which induced alterations in the forest cover.[24]',\n",
       " '',\n",
       " '',\n",
       " 'Geoglyphs on deforested land in the Amazon rainforest, Acre',\n",
       " 'For a long time, it was thought that the Amazon rainforest was only ever sparsely populated, as it was impossible to sustain a large population through agriculture given the poor soil. Archeologist Betty Meggers was a prominent proponent of this idea, as described in her book Amazonia: Man and Culture in a Counterfeit Paradise. She claimed that a population density of 0.2 inhabitants per square kilometre (0.52/sq mi) is the maximum that can be sustained in the rainforest through hunting, with agriculture needed to host a larger population.[25] However, recent anthropological findings have suggested that the region was actually densely populated. Some 5 million people may have lived in the Amazon region in AD 1500, divided between dense coastal settlements, such as that at Maraj�, and inland dwellers.[26] By 1900, the population had fallen to 1 million and by the early 1980s it was less than 200,000.[26]',\n",
       " '',\n",
       " \"The first European to travel the length of the Amazon River was Francisco de Orellana in 1542.[27] The BBC's Unnatural Histories presents evidence that Orellana, rather than exaggerating his claims as previously thought, was correct in his observations that a complex civilization was flourishing along the Amazon in the 1540s. It is believed that civilization was later devastated by the spread of diseases from Europe, such as smallpox.[28]\",\n",
       " '',\n",
       " \"Since the 1970s, numerous geoglyphs have been discovered on deforested land dating between AD 1�1250, furthering claims about Pre-Columbian civilizations.[29][30] Ondemar Dias is accredited with first discovering the geoglyphs in 1977, and Alceu Ranzi is credited with furthering their discovery after flying over Acre.[28][31] The BBC's Unnatural Histories presented evidence that the Amazon rainforest, rather than being a pristine wilderness, has been shaped by man for at least 11,000 years through practices such as forest gardening and terra preta.[28] Terra preta is found over large areas in the Amazon forest; and is now widely accepted as a product of indigenous soil management. The development of this fertile soil allowed agriculture and silviculture in the previously hostile environment; meaning that large portions of the Amazon rainforest are probably the result of centuries of human management, rather than naturally occurring as has previously been supposed.[32] In the region of the Xingu tribe, remains of some of these large settlements in the middle of the Amazon forest were found in 2003 by Michael Heckenberger and colleagues of the University of Florida. Among those were evidence of roads, bridges and large plazas.[33]\",\n",
       " '',\n",
       " 'On 3 September 1989, Varig Flight 254 crashed into the Amazon, killing 13 out of the 54 people on board.[34] On 26 September 2006, Gol Transportes A�reos Flight 1907, a Boeing 737-800, collided with an Embraer Legacy 600 above the amazon. The Legacy jet landed safely, but flight 1907 lost control, broke up in mid-air, and crashed into the Amazon, killing all 154 people on board.[35]',\n",
       " '',\n",
       " '2019 fires',\n",
       " 'Main article: 2019 Amazon rainforest wildfires',\n",
       " 'There have been 72,843 fires in Brazil in 2019, with more than half within the Amazon region.[36][37][38] In August 2019 there were a record number of fires.[39] Deforestation in the Brazilian Amazon rose more than 88% in June 2019 compared with the same month in 2018.[40]',\n",
       " '',\n",
       " 'Biodiversity',\n",
       " '',\n",
       " 'Scarlet macaw, which is indigenous to the American tropics.',\n",
       " '',\n",
       " 'Deforestation in the Amazon rainforest threatens many species of tree frogs, which are very sensitive to environmental changes (pictured: giant leaf frog)',\n",
       " '',\n",
       " 'A giant, bundled liana in western Brazil',\n",
       " 'Wet tropical forests are the most species-rich biome, and tropical forests in the Americas are consistently more species rich than the wet forests in Africa and Asia.[41] As the largest tract of tropical rainforest in the Americas, the Amazonian rainforests have unparalleled biodiversity. One in ten known species in the world lives in the Amazon rainforest.[42] This constitutes the largest collection of living plants and animal species in the world.',\n",
       " '',\n",
       " 'The region is home to about 2.5 million insect species,[43] tens of thousands of plants, and some 2,000 birds and mammals. To date, at least 40,000 plant species, 2,200 fishes,[44] 1,294 birds, 427 mammals, 428 amphibians, and 378 reptiles have been scientifically classified in the region.[45] One in five of all bird species are found in the Amazon rainforest, and one in five of the fish species live in Amazonian rivers and streams. Scientists have described between 96,660 and 128,843 invertebrate species in Brazil alone.[46]',\n",
       " '',\n",
       " 'The biodiversity of plant species is the highest on Earth with one 2001 study finding a quarter square kilometer (62 acres) of Ecuadorian rainforest supports more than 1,100 tree species.[47] A study in 1999 found one square kilometer (247 acres) of Amazon rainforest can contain about 90,790 tonnes of living plants. The average plant biomass is estimated at 356 � 47 tonnes per hectare.[48] To date, an estimated 438,000 species of plants of economic and social interest have been registered in the region with many more remaining to be discovered or catalogued.[49] The total number of tree species in the region is estimated at 16,000.[3]',\n",
       " '',\n",
       " 'The green leaf area of plants and trees in the rainforest varies by about 25% as a result of seasonal changes. Leaves expand during the dry season when sunlight is at a maximum, then undergo abscission in the cloudy wet season. These changes provide a balance of carbon between photosynthesis and respiration.[50]']"
      ]
     },
     "execution_count": 2,
     "metadata": {},
     "output_type": "execute_result"
    }
   ],
   "source": [
    "RDD_collections.collect()"
   ]
  },
  {
   "cell_type": "code",
   "execution_count": 3,
   "metadata": {},
   "outputs": [
    {
     "data": {
      "text/plain": [
       "'Amazon rainforest'"
      ]
     },
     "execution_count": 3,
     "metadata": {},
     "output_type": "execute_result"
    }
   ],
   "source": [
    "RDD_collections.first()"
   ]
  },
  {
   "cell_type": "markdown",
   "metadata": {},
   "source": [
    "### Using Take Command"
   ]
  },
  {
   "cell_type": "code",
   "execution_count": 4,
   "metadata": {},
   "outputs": [
    {
     "data": {
      "text/plain": [
       "['Amazon rainforest',\n",
       " 'From Wikipedia, the free encyclopedia',\n",
       " 'Jump to navigationJump to search',\n",
       " '\"Amazonia\" redirects here. For the river, see Amazon River. For other uses, see Amazon and Amazonia (disambiguation).',\n",
       " 'Amazon rainforest',\n",
       " 'Portuguese: Floresta amaz�nica',\n",
       " 'Spanish: Selva amaz�nica',\n",
       " 'Amazon Manaus forest.jpg',\n",
       " 'Amazon rainforest, near Manaus, Brazil',\n",
       " 'Geography']"
      ]
     },
     "execution_count": 4,
     "metadata": {},
     "output_type": "execute_result"
    }
   ],
   "source": [
    "samples = 10\n",
    "RDD_collections.take(samples)"
   ]
  },
  {
   "cell_type": "markdown",
   "metadata": {},
   "source": [
    "### Counting elements"
   ]
  },
  {
   "cell_type": "code",
   "execution_count": 5,
   "metadata": {},
   "outputs": [
    {
     "data": {
      "text/plain": [
       "106"
      ]
     },
     "execution_count": 5,
     "metadata": {},
     "output_type": "execute_result"
    }
   ],
   "source": [
    "RDD_collections.count()"
   ]
  },
  {
   "cell_type": "code",
   "execution_count": 6,
   "metadata": {},
   "outputs": [
    {
     "data": {
      "text/plain": [
       "wikipedia.txt MapPartitionsRDD[1] at textFile at NativeMethodAccessorImpl.java:0"
      ]
     },
     "execution_count": 6,
     "metadata": {},
     "output_type": "execute_result"
    }
   ],
   "source": [
    "RDD_collections.cache()"
   ]
  },
  {
   "cell_type": "code",
   "execution_count": 7,
   "metadata": {},
   "outputs": [
    {
     "name": "stdout",
     "output_type": "stream",
     "text": [
      "Number of elements:  106\n"
     ]
    }
   ],
   "source": [
    "print('Number of elements: ', RDD_collections.count())"
   ]
  },
  {
   "cell_type": "markdown",
   "metadata": {},
   "source": [
    "### Apache Spark Actions "
   ]
  },
  {
   "cell_type": "markdown",
   "metadata": {},
   "source": [
    "### Using Map operations in Spark"
   ]
  },
  {
   "cell_type": "code",
   "execution_count": 8,
   "metadata": {},
   "outputs": [],
   "source": [
    "new_collections = RDD_collections.map(lambda line : line.split(\" \"))"
   ]
  },
  {
   "cell_type": "code",
   "execution_count": 9,
   "metadata": {},
   "outputs": [
    {
     "data": {
      "text/plain": [
       "[['Amazon', 'rainforest'],\n",
       " ['From', 'Wikipedia,', 'the', 'free', 'encyclopedia'],\n",
       " ['Jump', 'to', 'navigationJump', 'to', 'search'],\n",
       " ['\"Amazonia\"',\n",
       "  'redirects',\n",
       "  'here.',\n",
       "  'For',\n",
       "  'the',\n",
       "  'river,',\n",
       "  'see',\n",
       "  'Amazon',\n",
       "  'River.',\n",
       "  'For',\n",
       "  'other',\n",
       "  'uses,',\n",
       "  'see',\n",
       "  'Amazon',\n",
       "  'and',\n",
       "  'Amazonia',\n",
       "  '(disambiguation).'],\n",
       " ['Amazon', 'rainforest'],\n",
       " ['Portuguese:', 'Floresta', 'amaz�nica'],\n",
       " ['Spanish:', 'Selva', 'amaz�nica'],\n",
       " ['Amazon', 'Manaus', 'forest.jpg'],\n",
       " ['Amazon', 'rainforest,', 'near', 'Manaus,', 'Brazil'],\n",
       " ['Geography']]"
      ]
     },
     "execution_count": 9,
     "metadata": {},
     "output_type": "execute_result"
    }
   ],
   "source": [
    "new_collections.take(10)"
   ]
  },
  {
   "cell_type": "markdown",
   "metadata": {},
   "source": [
    "### Using flat Map operations in Apache Spark"
   ]
  },
  {
   "cell_type": "code",
   "execution_count": 10,
   "metadata": {},
   "outputs": [],
   "source": [
    "new_collections = RDD_collections.flatMap(lambda line : line.split(\" \"))"
   ]
  },
  {
   "cell_type": "code",
   "execution_count": 11,
   "metadata": {},
   "outputs": [
    {
     "data": {
      "text/plain": [
       "['Amazon',\n",
       " 'rainforest',\n",
       " 'From',\n",
       " 'Wikipedia,',\n",
       " 'the',\n",
       " 'free',\n",
       " 'encyclopedia',\n",
       " 'Jump',\n",
       " 'to',\n",
       " 'navigationJump']"
      ]
     },
     "execution_count": 11,
     "metadata": {},
     "output_type": "execute_result"
    }
   ],
   "source": [
    "new_collections.take(10)"
   ]
  },
  {
   "cell_type": "markdown",
   "metadata": {},
   "source": [
    "### Using persist in Apache Spark"
   ]
  },
  {
   "cell_type": "code",
   "execution_count": 12,
   "metadata": {},
   "outputs": [],
   "source": [
    "RDD_storage = RDD_collections.persist()"
   ]
  },
  {
   "cell_type": "markdown",
   "metadata": {},
   "source": [
    "#### Memory Only"
   ]
  },
  {
   "cell_type": "code",
   "execution_count": 13,
   "metadata": {},
   "outputs": [
    {
     "data": {
      "text/plain": [
       "wikipedia.txt MapPartitionsRDD[1] at textFile at NativeMethodAccessorImpl.java:0"
      ]
     },
     "execution_count": 13,
     "metadata": {},
     "output_type": "execute_result"
    }
   ],
   "source": [
    "RDD_storage.persist(pyspark.StorageLevel.MEMORY_ONLY)"
   ]
  },
  {
   "cell_type": "code",
   "execution_count": 14,
   "metadata": {},
   "outputs": [
    {
     "data": {
      "text/plain": [
       "wikipedia.txt MapPartitionsRDD[1] at textFile at NativeMethodAccessorImpl.java:0"
      ]
     },
     "execution_count": 14,
     "metadata": {},
     "output_type": "execute_result"
    }
   ],
   "source": [
    "RDD_storage.unpersist()"
   ]
  },
  {
   "cell_type": "markdown",
   "metadata": {},
   "source": [
    "#### Disk Only"
   ]
  },
  {
   "cell_type": "code",
   "execution_count": 15,
   "metadata": {},
   "outputs": [
    {
     "data": {
      "text/plain": [
       "wikipedia.txt MapPartitionsRDD[1] at textFile at NativeMethodAccessorImpl.java:0"
      ]
     },
     "execution_count": 15,
     "metadata": {},
     "output_type": "execute_result"
    }
   ],
   "source": [
    "RDD_storage.persist(pyspark.StorageLevel.DISK_ONLY)"
   ]
  },
  {
   "cell_type": "code",
   "execution_count": 16,
   "metadata": {},
   "outputs": [
    {
     "data": {
      "text/plain": [
       "wikipedia.txt MapPartitionsRDD[1] at textFile at NativeMethodAccessorImpl.java:0"
      ]
     },
     "execution_count": 16,
     "metadata": {},
     "output_type": "execute_result"
    }
   ],
   "source": [
    "RDD_storage.unpersist()"
   ]
  },
  {
   "cell_type": "markdown",
   "metadata": {},
   "source": [
    "#### Disk and Memory "
   ]
  },
  {
   "cell_type": "code",
   "execution_count": 17,
   "metadata": {},
   "outputs": [
    {
     "data": {
      "text/plain": [
       "wikipedia.txt MapPartitionsRDD[1] at textFile at NativeMethodAccessorImpl.java:0"
      ]
     },
     "execution_count": 17,
     "metadata": {},
     "output_type": "execute_result"
    }
   ],
   "source": [
    "RDD_storage.persist(pyspark.StorageLevel.MEMORY_AND_DISK)"
   ]
  }
 ],
 "metadata": {
  "kernelspec": {
   "display_name": "Python 3",
   "language": "python",
   "name": "python3"
  },
  "language_info": {
   "codemirror_mode": {
    "name": "ipython",
    "version": 3
   },
   "file_extension": ".py",
   "mimetype": "text/x-python",
   "name": "python",
   "nbconvert_exporter": "python",
   "pygments_lexer": "ipython3",
   "version": "3.7.1"
  }
 },
 "nbformat": 4,
 "nbformat_minor": 2
}
