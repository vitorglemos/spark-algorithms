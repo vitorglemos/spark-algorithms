{
 "cells": [
  {
   "cell_type": "code",
   "execution_count": 1,
   "metadata": {},
   "outputs": [
    {
     "name": "stdout",
     "output_type": "stream",
     "text": [
      "Pi is roughly 2.992000\n"
     ]
    }
   ],
   "source": [
    "\n",
    "import pyspark\n",
    "import random\n",
    "\n",
    "sc = pyspark.SparkContext()\n",
    "n_samples = 1000\n",
    "\n",
    "def pi_estimator(p):\n",
    "    x,y = random.random(),random.random()\n",
    "    return 1 if x*x + y*y < 1 else 0\n",
    "\n",
    "\n",
    "count = sc.parallelize(range(0, n_samples)).map(pi_estimator).reduce(lambda a, b: a + b)\n",
    "value = (4.0 * count)/ n_samples\n",
    "print(\"PI is %f\" % value)"
   ]
  },
  {
   "cell_type": "code",
   "execution_count": null,
   "metadata": {},
   "outputs": [],
   "source": []
  }
 ],
 "metadata": {
  "kernelspec": {
   "display_name": "Python 3",
   "language": "python",
   "name": "python3"
  },
  "language_info": {
   "codemirror_mode": {
    "name": "ipython",
    "version": 3
   },
   "file_extension": ".py",
   "mimetype": "text/x-python",
   "name": "python",
   "nbconvert_exporter": "python",
   "pygments_lexer": "ipython3",
   "version": "3.7.1"
  }
 },
 "nbformat": 4,
 "nbformat_minor": 2
}
